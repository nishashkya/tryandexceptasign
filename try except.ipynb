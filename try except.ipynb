{
 "cells": [
  {
   "cell_type": "code",
   "execution_count": null,
   "id": "6aba9298-9ebc-4d65-9872-50fa8c63c4fc",
   "metadata": {},
   "outputs": [],
   "source": [
    "#ques1_Answer :\n",
    "An exception in Python is an incident that happens while executing a program that causes the regular course of the program's commands to be disrupted. \n",
    "When a Python code comes across a condition it can't handle, it raises an exception. An object in Python that describes an error is called an exception.\n",
    "\n",
    "The Python SyntaxError occurs when the interpreter encounters invalid syntax in code. When Python code is executed, \n",
    "the interpreter parses it to convert it into bytecode. If the interpreter finds any invalid syntax during the parsing stage, a SyntaxError is thrown.\n",
    "\n",
    "#difference between exceptions and syntax errors\n",
    "A syntax error occurs when the structure of a program does not conform to the rules of the programming language. Syntax errors are usually detected by the compiler or interpreter when the program is being compiled or executed, and they prevent the program from running. Syntax errors are usually caused by mistakes in the source code, such as typos, omissions, or incorrect use of syntax.\n",
    "while \n",
    "An exception is an abnormal event that occurs during the execution of a program. Exceptions are usually caused by runtime errors, such as dividing by zero, trying to access an element in an array with an out-of-bounds index, or trying to access a file that does not exist. Exceptions are not syntax errors, but they can still prevent the program from running if they are not handled properly."
   ]
  },
  {
   "cell_type": "code",
   "execution_count": null,
   "id": "ea839114-b637-4df8-9151-54dc7ff6920b",
   "metadata": {},
   "outputs": [],
   "source": [
    "#ques2_Answer :\n",
    "python has many built in exceptions that are raised when your program encounters an error .\n",
    "when these exceptions occur, the python interpreter stops the current process and passes it to the calling process until it is handles. if not handled , the program will crash."
   ]
  },
  {
   "cell_type": "code",
   "execution_count": 6,
   "id": "ccc9a432-0174-41a1-802a-fb4c61c1cba5",
   "metadata": {},
   "outputs": [
    {
     "name": "stdin",
     "output_type": "stream",
     "text": [
      "enter the integer:   A\n"
     ]
    },
    {
     "ename": "NameError",
     "evalue": "name 'valueError' is not defined",
     "output_type": "error",
     "traceback": [
      "\u001b[0;31m---------------------------------------------------------------------------\u001b[0m",
      "\u001b[0;31mValueError\u001b[0m                                Traceback (most recent call last)",
      "Cell \u001b[0;32mIn [6], line 3\u001b[0m\n\u001b[1;32m      2\u001b[0m \u001b[38;5;28;01mtry\u001b[39;00m:\n\u001b[0;32m----> 3\u001b[0m     num \u001b[38;5;241m=\u001b[39m \u001b[38;5;28;43mint\u001b[39;49m\u001b[43m(\u001b[49m\u001b[38;5;28;43minput\u001b[39;49m\u001b[43m(\u001b[49m\u001b[38;5;124;43m\"\u001b[39;49m\u001b[38;5;124;43menter the integer:  \u001b[39;49m\u001b[38;5;124;43m\"\u001b[39;49m\u001b[43m)\u001b[49m\u001b[43m)\u001b[49m\n\u001b[1;32m      4\u001b[0m \u001b[38;5;28;01mexcept\u001b[39;00m valueError:\n",
      "\u001b[0;31mValueError\u001b[0m: invalid literal for int() with base 10: 'A'",
      "\nDuring handling of the above exception, another exception occurred:\n",
      "\u001b[0;31mNameError\u001b[0m                                 Traceback (most recent call last)",
      "Cell \u001b[0;32mIn [6], line 4\u001b[0m\n\u001b[1;32m      2\u001b[0m \u001b[38;5;28;01mtry\u001b[39;00m:\n\u001b[1;32m      3\u001b[0m     num \u001b[38;5;241m=\u001b[39m \u001b[38;5;28mint\u001b[39m(\u001b[38;5;28minput\u001b[39m(\u001b[38;5;124m\"\u001b[39m\u001b[38;5;124menter the integer:  \u001b[39m\u001b[38;5;124m\"\u001b[39m))\n\u001b[0;32m----> 4\u001b[0m \u001b[38;5;28;01mexcept\u001b[39;00m \u001b[43mvalueError\u001b[49m:\n\u001b[1;32m      5\u001b[0m     \u001b[38;5;28mprint\u001b[39m(\u001b[38;5;124m\"\u001b[39m\u001b[38;5;124minvalid input\u001b[39m\u001b[38;5;124m\"\u001b[39m)\n",
      "\u001b[0;31mNameError\u001b[0m: name 'valueError' is not defined"
     ]
    }
   ],
   "source": [
    "#ques2_example :\n",
    "try:\n",
    "    num = int(input(\"enter the integer:  \"))\n",
    "except valueError:\n",
    "    print(\"invalid input\")\n",
    "    \n",
    "# In thihs example exception is not handled by except block and the program stopped there."
   ]
  },
  {
   "cell_type": "code",
   "execution_count": null,
   "id": "edbf28db-61da-4645-b186-6802cafdf48d",
   "metadata": {},
   "outputs": [],
   "source": [
    "#ques3_Answer :\n",
    "The try and except block in Python is used to catch and handle exceptions. Python executes code following the try statement as a “normal” part of the program. \n",
    "The code that follows the except statement is the program’s response to any exceptions in the preceding try clause."
   ]
  },
  {
   "cell_type": "code",
   "execution_count": 9,
   "id": "7b6a88c9-8f3a-4b5c-b0be-00f1c207463b",
   "metadata": {},
   "outputs": [
    {
     "ename": "NameError",
     "evalue": "name 'Filenotfounderror' is not defined",
     "output_type": "error",
     "traceback": [
      "\u001b[0;31m---------------------------------------------------------------------------\u001b[0m",
      "\u001b[0;31mFileNotFoundError\u001b[0m                         Traceback (most recent call last)",
      "Cell \u001b[0;32mIn [9], line 3\u001b[0m\n\u001b[1;32m      2\u001b[0m \u001b[38;5;28;01mtry\u001b[39;00m:\n\u001b[0;32m----> 3\u001b[0m     f\u001b[38;5;241m=\u001b[39m\u001b[38;5;28;43mopen\u001b[39;49m\u001b[43m(\u001b[49m\u001b[38;5;124;43m\"\u001b[39;49m\u001b[38;5;124;43mtxt.file\u001b[39;49m\u001b[38;5;124;43m\"\u001b[39;49m\u001b[43m,\u001b[49m\u001b[38;5;124;43m\"\u001b[39;49m\u001b[38;5;124;43mr\u001b[39;49m\u001b[38;5;124;43m\"\u001b[39;49m\u001b[43m)\u001b[49m\n\u001b[1;32m      4\u001b[0m \u001b[38;5;66;03m#in this code we are trying to read the given file.\u001b[39;00m\n",
      "\u001b[0;31mFileNotFoundError\u001b[0m: [Errno 2] No such file or directory: 'txt.file'",
      "\nDuring handling of the above exception, another exception occurred:\n",
      "\u001b[0;31mNameError\u001b[0m                                 Traceback (most recent call last)",
      "Cell \u001b[0;32mIn [9], line 5\u001b[0m\n\u001b[1;32m      3\u001b[0m     f\u001b[38;5;241m=\u001b[39m\u001b[38;5;28mopen\u001b[39m(\u001b[38;5;124m\"\u001b[39m\u001b[38;5;124mtxt.file\u001b[39m\u001b[38;5;124m\"\u001b[39m,\u001b[38;5;124m\"\u001b[39m\u001b[38;5;124mr\u001b[39m\u001b[38;5;124m\"\u001b[39m)\n\u001b[1;32m      4\u001b[0m \u001b[38;5;66;03m#in this code we are trying to read the given file.\u001b[39;00m\n\u001b[0;32m----> 5\u001b[0m \u001b[38;5;28;01mexcept\u001b[39;00m \u001b[43mFilenotfounderror\u001b[49m:\n\u001b[1;32m      6\u001b[0m     \u001b[38;5;28mprint\u001b[39m(\u001b[38;5;124m\"\u001b[39m\u001b[38;5;124mthis is the final result\u001b[39m\u001b[38;5;124m\"\u001b[39m,e)\n",
      "\u001b[0;31mNameError\u001b[0m: name 'Filenotfounderror' is not defined"
     ]
    }
   ],
   "source": [
    "#example answer_3:\n",
    "try:\n",
    "    f=open(\"txt.file\",\"r\")\n",
    "#in this code we are trying to read the given file.\n",
    "except Filenotfounderror:\n",
    "    print(\"this is the final result\",e) #except block will execute itself if try block fails\n",
    "    \n",
    "# In this example it is showing filenotfound error  because we don't have any file with the given name so it is showing file not found error"
   ]
  },
  {
   "cell_type": "code",
   "execution_count": null,
   "id": "a3ecc01a-ee4b-4c31-aa2a-38a9a381c83f",
   "metadata": {},
   "outputs": [],
   "source": [
    "#ques4_Answer :\n",
    "a) try and else :The try block lets you test a block of code for errors.\n",
    "                 The else block lets you execute code when there is no error or when try block execute itself without error.\n",
    "    \n",
    "b) finally : The finally block lets you execute code, regardless of the result of the try- and except blocks.\n",
    "\n",
    "c) raise : As a Python developer you can choose to throw an exception if a condition occurs.         \n",
    "           To throw (or raise) an exception, use the raise keyword.\n",
    "           the raise keyword is use to raise an exception."
   ]
  },
  {
   "cell_type": "code",
   "execution_count": null,
   "id": "833f31b0-35d3-49f3-89ff-43f720c59bcb",
   "metadata": {},
   "outputs": [],
   "source": [
    "#ques5_Answer :\n",
    "Python has many built-in exceptions with it, apart from these built-in list python has the capability to provide custom exceptions to the users. \n",
    "These custom exceptions are named as user-defined exceptions. Here the user-defined exceptions can be built defined by using a class declared for it.\n",
    "\n",
    "we need custom exceptions because These custom exceptions are declared specifically to satisfy user necessities related to a project. All the user-defined exceptions will be derived from the user class.\n",
    "\n"
   ]
  },
  {
   "cell_type": "code",
   "execution_count": 3,
   "id": "f6014170-ac27-42bf-a8a3-d4db1de62cee",
   "metadata": {},
   "outputs": [
    {
     "name": "stdin",
     "output_type": "stream",
     "text": [
      "enter age:   14\n"
     ]
    },
    {
     "name": "stdout",
     "output_type": "stream",
     "text": [
      " AgeError! person is not eligible\n"
     ]
    }
   ],
   "source": [
    "#ques5_example:\n",
    "class AgeError (Exception):\n",
    "    \"raised when person age is less than 18\"\n",
    "    pass\n",
    "\n",
    "try:\n",
    "    age = int(input(\"enter age:  \")) \n",
    "    if(age < 18):\n",
    "        raise AgeError\n",
    "        \n",
    "except AgeError:\n",
    "    \n",
    "# except will execute itself try fails.\n",
    " print(\" AgeError! person is not eligible\")\n",
    "else:\n",
    "# else will be execute itself when try block succesfully complete\n",
    "    print(\"person is eligible\")"
   ]
  },
  {
   "cell_type": "code",
   "execution_count": 4,
   "id": "1da77115-3bba-4d86-a5a9-cfa405226297",
   "metadata": {},
   "outputs": [
    {
     "name": "stdin",
     "output_type": "stream",
     "text": [
      "enter required quantity 700\n"
     ]
    },
    {
     "name": "stdout",
     "output_type": "stream",
     "text": [
      "InventoryError! stock unavailable\n"
     ]
    }
   ],
   "source": [
    "#ques6\n",
    "class InventoryError(Exception):\n",
    "    #raise when order quantity is more than stock\n",
    "    pass\n",
    "try:\n",
    "    stock = 100\n",
    "    quantity = int(input(\"enter required quantity\"))\n",
    "    if quantity > stock:\n",
    "        raise InventoryError\n",
    "    else:\n",
    "        print('stock available')\n",
    "\n",
    "except InventoryError:\n",
    "    print(\"InventoryError! stock unavailable\")\n"
   ]
  },
  {
   "cell_type": "code",
   "execution_count": null,
   "id": "34da8df7-df70-4cd4-99ac-caca590e5322",
   "metadata": {},
   "outputs": [],
   "source": []
  }
 ],
 "metadata": {
  "kernelspec": {
   "display_name": "Python 3 (ipykernel)",
   "language": "python",
   "name": "python3"
  },
  "language_info": {
   "codemirror_mode": {
    "name": "ipython",
    "version": 3
   },
   "file_extension": ".py",
   "mimetype": "text/x-python",
   "name": "python",
   "nbconvert_exporter": "python",
   "pygments_lexer": "ipython3",
   "version": "3.10.6"
  }
 },
 "nbformat": 4,
 "nbformat_minor": 5
}
